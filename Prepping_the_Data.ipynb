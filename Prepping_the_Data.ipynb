{
 "cells": [
  {
   "cell_type": "markdown",
   "metadata": {},
   "source": [
    "# This file lays out the steps involved in reading the data files and prepping them for Matrix Factorization (Phase1.py)\n",
    "\n",
    "The following scripts will be used for this:\n",
    "\n",
    "    - config.py      defines addresses to all data files, input files and output files.\n",
    "    - read_data.py   reads data files, converts them to the appropriate format."
   ]
  },
  {
   "cell_type": "code",
   "execution_count": 1,
   "metadata": {},
   "outputs": [],
   "source": [
    "## Logger for writing outputs to .log file.\n",
    "## .info prints to standard output + .log file\n",
    "## .debug prints to only .log file\n",
    "\n",
    "import logging\n",
    "import time\n",
    "import sys\n",
    "logdatetime = time.strftime(\"%m%d\")\n",
    "\n",
    "logger = logging.getLogger()\n",
    "logger.setLevel(logging.DEBUG)\n",
    "logger.handlers =[]\n",
    "\n",
    "fh = logging.FileHandler('test'+logdatetime+'.log', mode='w')\n",
    "fh.setLevel(logging.DEBUG)\n",
    "\n",
    "sh = logging.StreamHandler(stream=sys.stdout)\n",
    "sh.setLevel(logging.INFO)\n",
    "\n",
    "formatter = logging.Formatter('%(asctime)s - %(name)s - %(levelname)s - %(message)s')\n",
    "fh.setFormatter(formatter)\n",
    "\n",
    "logger.addHandler(fh)\n",
    "logger.addHandler(sh)"
   ]
  },
  {
   "cell_type": "code",
   "execution_count": 2,
   "metadata": {},
   "outputs": [
    {
     "name": "stdout",
     "output_type": "stream",
     "text": [
      "Filenames have been loaded\n",
      "Constants have been loaded\n"
     ]
    }
   ],
   "source": [
    "import config\n",
    "\n",
    "'''Select path name for files depending on whether you are working on your PC or cluster'''\n",
    "# path_for_data is an optional variable that defaults to 'path'. This is included to facilate a seperate path\n",
    "# address for large data files\n",
    "\n",
    "path = './Data_Files/'         # Use this if working on PC\n",
    "path_for_data = '../../'       # Use this if working on PC and if data files are in a different folder\n",
    "\n",
    "#path = './scratch/'           # Use this if working on cluster\n",
    "#path_for_data = './scratch/'  # Use this if working on cluster and if data files are in a different folder\n",
    "\n",
    "filenames = config.generate_filenames(path, path_for_data)\n",
    "\n",
    "logger.info('Filenames have been loaded')\n",
    "[logger.debug(i) for i in filenames]\n",
    "\n",
    "logger.info('Constants have been loaded')\n",
    "[logger.debug(i) for i in dir(globals()['config'])];"
   ]
  },
  {
   "cell_type": "code",
   "execution_count": 3,
   "metadata": {},
   "outputs": [
    {
     "name": "stdout",
     "output_type": "stream",
     "text": [
      "Lack of: ['W_trips.txt', 'W_speeds.txt', 'HT_trips.txt', 'HT_speeds.txt', 'HT_trips_axed.txt', 'HT_speeds_axed.txt']\n"
     ]
    }
   ],
   "source": [
    "# Check all files \n",
    "import os\n",
    "file_list = []\n",
    "for i in list(filenames.values()):\n",
    "    a = os.path.isfile(i)\n",
    "    if a == False:\n",
    "        file_list.append(str(i).split('/', 5)[-1])\n",
    "\n",
    "if file_list == []:\n",
    "    logger.info('All Files Exist!')\n",
    "else:\n",
    "    logger.info(\"Lack of: %s\", file_list)"
   ]
  },
  {
   "cell_type": "code",
   "execution_count": 4,
   "metadata": {
    "collapsed": true
   },
   "outputs": [],
   "source": []
  },
  {
   "cell_type": "code",
   "execution_count": null,
   "metadata": {
    "collapsed": true
   },
   "outputs": [],
   "source": []
  }
 ],
 "metadata": {
  "kernelspec": {
   "display_name": "Python 3",
   "language": "python",
   "name": "python3"
  },
  "language_info": {
   "codemirror_mode": {
    "name": "ipython",
    "version": 3
   },
   "file_extension": ".py",
   "mimetype": "text/x-python",
   "name": "python",
   "nbconvert_exporter": "python",
   "pygments_lexer": "ipython3",
   "version": "3.6.1"
  }
 },
 "nbformat": 4,
 "nbformat_minor": 2
}
