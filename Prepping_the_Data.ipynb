{
 "cells": [
  {
   "cell_type": "markdown",
   "metadata": {},
   "source": [
    "# This file lays out the steps involved in reading the data files and prepping them for Matrix Factorization (Phase1.py)\n",
    "\n",
    "The following scripts will be used for this:\n",
    "\n",
    "    - config.py      defines addresses to all data files, input files and output files.\n",
    "    - read_data.py   reads data files, converts them to the appropriate format."
   ]
  },
  {
   "cell_type": "code",
   "execution_count": 1,
   "metadata": {
    "collapsed": true
   },
   "outputs": [],
   "source": [
    "import config\n",
    "\n",
    "'''Select path name for files depending on whether you are working on your PC or cluster'''\n",
    "# path_for_data is an optional variable that defaults to 'path'. This is included to facilate a seperate path\n",
    "# address for large data files\n",
    "\n",
    "path = './Data_Files/'         # Use this if working on PC\n",
    "path_for_data = '../../'       # Use this if working on PC and if data files are in a different folder\n",
    "\n",
    "#path = './scratch/'           # Use this if working on cluster\n",
    "#path_for_data = './scratch/'  # Use this if working on cluster and if data files are in a different folder\n",
    "\n",
    "filenames = config.generate_filenames(path, path_for_data)"
   ]
  },
  {
   "cell_type": "code",
   "execution_count": 5,
   "metadata": {
    "collapsed": true
   },
   "outputs": [
    {
     "name": "stdout",
     "output_type": "stream",
     "text": [
      "The following filenames have been loaded:\n",
      "{'HT_speeds': './Data_Files/HT_speeds.txt',\n",
      " 'HT_speeds_axed': './Data_Files/HT_speeds_axed.txt',\n",
      " 'HT_speeds_seed': './Data_Files/Seeded0,1/HT_speeds.txt',\n",
      " 'HT_trips': './Data_Files/HT_trips.txt',\n",
      " 'HT_trips_axed': './Data_Files/HT_trips_axed.txt',\n",
      " 'HT_trips_axed_seed': './Data_Files/Seeded0,1/HT_trips_axed.txt',\n",
      " 'HT_trips_seed': './Data_Files/Seeded0,1/HT_trips.txt',\n",
      " 'W_speeds': './Data_Files/W_speeds.txt',\n",
      " 'W_speeds_axed_seed': './Data_Files/Seeded0,1/HT_speeds_axed.txt',\n",
      " 'W_speeds_seed': './Data_Files/Seeded0,1/W_speeds.txt',\n",
      " 'W_trips': './Data_Files/W_trips.txt',\n",
      " 'W_trips_seed': './Data_Files/Seeded0,1/W_trips.txt',\n",
      " 'data_coo_form': '../../data_coo_form.txt',\n",
      " 'data_traveltimes': '../../data_travel_times.csv',\n",
      " 'data_trips': '../../data_trips.csv',\n",
      " 'data_trips_transpose': '../../data_trips_transpose.csv',\n",
      " 'empty_link_ids': './Data_Files/empty_link_ids.txt',\n",
      " 'full_link_ids': './Data_Files/full_link_ids.txt',\n",
      " 'full_link_speeds': './Data_Files/full_link_speeds.json',\n",
      " 'full_link_traveltimes': './Data_Files/full_link_travel_times.json',\n",
      " 'full_link_trips': './Data_Files/full_link_trips.json',\n",
      " 'links': '../../links.csv',\n",
      " 'nodes': '../../nodes.csv',\n",
      " 'random': './Data_Files/Random_numbers.txt',\n",
      " 'raw_data': '../../travel_times_2011.csv'}\n",
      "\n",
      "\n",
      "The following constants have been loaded: (with other extra module built-ins)\n"
     ]
    },
    {
     "data": {
      "text/plain": [
       "['EMPTY_LINKS',\n",
       " 'FULL_LINKS',\n",
       " 'HOURS_IN_YEAR',\n",
       " 'MID_LINKS',\n",
       " 'RANK',\n",
       " 'SEEDED',\n",
       " 'TOTAL_LINKS',\n",
       " 'TRIPS',\n",
       " '__builtins__',\n",
       " '__cached__',\n",
       " '__doc__',\n",
       " '__file__',\n",
       " '__loader__',\n",
       " '__name__',\n",
       " '__package__',\n",
       " '__spec__',\n",
       " 'generate_filenames']"
      ]
     },
     "execution_count": 5,
     "metadata": {},
     "output_type": "execute_result"
    }
   ],
   "source": [
    "import pprint     # Module for pretty-printing \n",
    "\n",
    "print('The following filenames have been loaded:')\n",
    "pprint.pprint(filenames)\n",
    "\n",
    "print('\\n\\nThe following constants have been loaded: (with other extra module built-ins)')\n",
    "dir(globals()['config'])"
   ]
  },
  {
   "cell_type": "code",
   "execution_count": null,
   "metadata": {
    "collapsed": true
   },
   "outputs": [],
   "source": [
    "import read_data\n"
   ]
  },
  {
   "cell_type": "code",
   "execution_count": null,
   "metadata": {
    "collapsed": true
   },
   "outputs": [],
   "source": []
  }
 ],
 "metadata": {
  "kernelspec": {
   "display_name": "Python 3",
   "language": "python",
   "name": "python3"
  },
  "language_info": {
   "codemirror_mode": {
    "name": "ipython",
    "version": 3
   },
   "file_extension": ".py",
   "mimetype": "text/x-python",
   "name": "python",
   "nbconvert_exporter": "python",
   "pygments_lexer": "ipython3",
   "version": "3.6.1"
  }
 },
 "nbformat": 4,
 "nbformat_minor": 2
}
