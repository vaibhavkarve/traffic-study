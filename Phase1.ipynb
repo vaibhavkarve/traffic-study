{
 "cells": [
  {
   "cell_type": "markdown",
   "metadata": {},
   "source": [
    "# Description of what this code does needs to go here\n",
    "*Question: Traveltimes or travelspeeds?*"
   ]
  },
  {
   "cell_type": "code",
   "execution_count": 3,
   "metadata": {
    "collapsed": true
   },
   "outputs": [
    {
     "name": "stdout",
     "output_type": "stream",
     "text": [
      "The following filenames have been loaded:\n",
      "{'HT_speeds': './Data_Files/HT_speeds.txt',\n",
      " 'HT_speeds_axed': './Data_Files/HT_speeds_axed.txt',\n",
      " 'HT_speeds_seed': './Data_Files/Seeded0,1/HT_speeds.txt',\n",
      " 'HT_trips': './Data_Files/HT_trips.txt',\n",
      " 'HT_trips_axed': './Data_Files/HT_trips_axed.txt',\n",
      " 'HT_trips_axed_seed': './Data_Files/Seeded0,1/HT_trips_axed.txt',\n",
      " 'HT_trips_seed': './Data_Files/Seeded0,1/HT_trips.txt',\n",
      " 'W_speeds': './Data_Files/W_speeds.txt',\n",
      " 'W_speeds_axed_seed': './Data_Files/Seeded0,1/HT_speeds_axed.txt',\n",
      " 'W_speeds_seed': './Data_Files/Seeded0,1/W_speeds.txt',\n",
      " 'W_trips': './Data_Files/W_trips.txt',\n",
      " 'W_trips_seed': './Data_Files/Seeded0,1/W_trips.txt',\n",
      " 'data_coo_form': '../../data_coo_form.txt',\n",
      " 'data_traveltimes': '../../data_travel_times.csv',\n",
      " 'data_trips': '../../data_trips.csv',\n",
      " 'data_trips_transpose': '../../data_trips_transpose.csv',\n",
      " 'empty_link_ids': './Data_Files/empty_link_ids.txt',\n",
      " 'full_link_ids': './Data_Files/full_link_ids.txt',\n",
      " 'full_link_speeds': './Data_Files/full_link_speeds.json',\n",
      " 'full_link_traveltimes': './Data_Files/full_link_travel_times.json',\n",
      " 'full_link_trips': './Data_Files/full_link_trips.json',\n",
      " 'links': '../../links.csv',\n",
      " 'nodes': '../../nodes.csv',\n",
      " 'random': './Data_Files/Random_numbers.txt',\n",
      " 'raw_data': '../../travel_times_2011.csv'}\n",
      "\n",
      "\n",
      "The following constants have been loaded: (with other extra module built-ins)\n"
     ]
    },
    {
     "data": {
      "text/plain": [
       "['EMPTY_LINKS',\n",
       " 'FULL_LINKS',\n",
       " 'HOURS_IN_YEAR',\n",
       " 'MID_LINKS',\n",
       " 'RANK',\n",
       " 'SEEDED',\n",
       " 'TOTAL_LINKS',\n",
       " 'TRIPS',\n",
       " '__builtins__',\n",
       " '__cached__',\n",
       " '__doc__',\n",
       " '__file__',\n",
       " '__loader__',\n",
       " '__name__',\n",
       " '__package__',\n",
       " '__spec__',\n",
       " 'generate_filenames']"
      ]
     },
     "execution_count": 3,
     "metadata": {},
     "output_type": "execute_result"
    }
   ],
   "source": [
    "import config     # Module that contains all the global variables, filenames etc.\n",
    "import pprint     # Module for pretty-printing \n",
    "\n",
    "\n",
    "'''Select path name for files depending on whether you are working on your PC or cluster'''\n",
    "# path_for_data is an optional variable that defaults to 'path'. This is included to facilate a seperate path\n",
    "# address for large data files\n",
    "\n",
    "path = './Data_Files/'         # Use this if working on PC\n",
    "path_for_data = '../../'       # Use this if working on PC and if data files are in a different folder\n",
    "\n",
    "#path = './scratch/'           # Use this if working on cluster\n",
    "#path_for_data = './scratch/'  # Use this if working on cluster and if data files are in a different folder\n",
    "\n",
    "filenames = config.generate_filenames(path, path_for_data)\n",
    "\n",
    "print('The following filenames have been loaded:')\n",
    "pprint.pprint(filenames)\n",
    "\n",
    "print('\\n\\nThe following constants have been loaded: (with other extra module built-ins)')\n",
    "dir(globals()['config'])"
   ]
  },
  {
   "cell_type": "code",
   "execution_count": 6,
   "metadata": {},
   "outputs": [
    {
     "data": {
      "text/plain": [
       "1"
      ]
     },
     "execution_count": 6,
     "metadata": {},
     "output_type": "execute_result"
    }
   ],
   "source": [
    "config.TRIPS"
   ]
  },
  {
   "cell_type": "code",
   "execution_count": 22,
   "metadata": {},
   "outputs": [
    {
     "ename": "NameError",
     "evalue": "name 'filenames' is not defined",
     "output_type": "error",
     "traceback": [
      "\u001b[0;31m---------------------------------------------------------------------------\u001b[0m",
      "\u001b[0;31mNameError\u001b[0m                                 Traceback (most recent call last)",
      "\u001b[0;32m<ipython-input-22-fc5e17d4bc80>\u001b[0m in \u001b[0;36m<module>\u001b[0;34m()\u001b[0m\n\u001b[1;32m      4\u001b[0m \u001b[0;32mimport\u001b[0m \u001b[0mPhase1\u001b[0m      \u001b[0;31m# This name needs to be changed\u001b[0m\u001b[0;34m\u001b[0m\u001b[0m\n\u001b[1;32m      5\u001b[0m \u001b[0;34m\u001b[0m\u001b[0m\n\u001b[0;32m----> 6\u001b[0;31m \u001b[0mfull_link_ids\u001b[0m\u001b[0;34m,\u001b[0m \u001b[0mD\u001b[0m \u001b[0;34m=\u001b[0m \u001b[0mread_full_link_json\u001b[0m\u001b[0;34m(\u001b[0m\u001b[0;34m)\u001b[0m  \u001b[0;31m# Reads trips or travelspeeds depending on config.TRIPS value\u001b[0m\u001b[0;34m\u001b[0m\u001b[0m\n\u001b[0m\u001b[1;32m      7\u001b[0m \u001b[0;34m\u001b[0m\u001b[0m\n\u001b[1;32m      8\u001b[0m \u001b[0mprint\u001b[0m\u001b[0;34m(\u001b[0m\u001b[0;34m'Full_link data has been read'\u001b[0m\u001b[0;34m)\u001b[0m\u001b[0;34m\u001b[0m\u001b[0m\n",
      "\u001b[0;32m/home/vaibhav/Dropbox/Traffic_New/read_data.py\u001b[0m in \u001b[0;36mread_full_link_json\u001b[0;34m()\u001b[0m\n\u001b[1;32m    213\u001b[0m     \u001b[0;31m# Use this when you wish to read the array for only 2302 full links.\u001b[0m\u001b[0;34m\u001b[0m\u001b[0;34m\u001b[0m\u001b[0m\n\u001b[1;32m    214\u001b[0m     \u001b[0;32mimport\u001b[0m \u001b[0mjson\u001b[0m\u001b[0;34m\u001b[0m\u001b[0m\n\u001b[0;32m--> 215\u001b[0;31m     \u001b[0;32mimport\u001b[0m \u001b[0mnumpy\u001b[0m \u001b[0;32mas\u001b[0m \u001b[0mnp\u001b[0m\u001b[0;34m\u001b[0m\u001b[0m\n\u001b[0m\u001b[1;32m    216\u001b[0m     \u001b[0mfull_link_ids\u001b[0m \u001b[0;34m=\u001b[0m \u001b[0mnp\u001b[0m\u001b[0;34m.\u001b[0m\u001b[0mloadtxt\u001b[0m\u001b[0;34m(\u001b[0m\u001b[0mfilenames\u001b[0m\u001b[0;34m[\u001b[0m\u001b[0;34m'full_link_ids'\u001b[0m\u001b[0;34m]\u001b[0m\u001b[0;34m,\u001b[0m \u001b[0mdtype\u001b[0m\u001b[0;34m=\u001b[0m\u001b[0;34m'int'\u001b[0m\u001b[0;34m)\u001b[0m\u001b[0;34m\u001b[0m\u001b[0m\n\u001b[1;32m    217\u001b[0m     \u001b[0;32mif\u001b[0m \u001b[0mTRIPS\u001b[0m \u001b[0;34m==\u001b[0m \u001b[0;36m0\u001b[0m\u001b[0;34m:\u001b[0m\u001b[0;34m\u001b[0m\u001b[0m\n",
      "\u001b[0;31mNameError\u001b[0m: name 'filenames' is not defined"
     ]
    }
   ],
   "source": [
    "a=10\n",
    "import numpy as np\n",
    "from read_data import read_full_link_json\n",
    "import Phase1      # This name needs to be changed\n",
    "\n",
    "full_link_ids, D = read_full_link_json()  # Reads trips or travelspeeds depending on config.TRIPS value \n",
    "\n",
    "print('Full_link data has been read')\n",
    "#print np.nanmin(D.flatten())\n",
    "if config.SEEDED == 1:\n",
    "    seed_W = 0\n",
    "    seed_H = 1\n",
    "elif config.SEEDED == 0:\n",
    "    seed_W = None\n",
    "    seed_H = None\n",
    "else:\n",
    "    print('Seed value invalid. Needs to be 0 or 1. Check config.py!')\n",
    "    quit()\n",
    "    \n",
    "W, H, error = Phase1.find_signatures(D, rank = config.RANK, seed_W = seed_W, seed_H = seed_H)"
   ]
  },
  {
   "cell_type": "code",
   "execution_count": null,
   "metadata": {
    "collapsed": true
   },
   "outputs": [],
   "source": [
    "if config.TRIPS == 1:\n",
    "    np.savetxt(filenames['W_trips'], W);                print('W_trips written')\n",
    "    np.savetxt(filenames['HT_trips'], H.T);             print('HT_trips written')\n",
    "    np.savetxt(filenames['HT_trips_axed'], axe_H(H.T)); print('HT_trips_axed written')\n",
    "\n",
    "elif config.TRIPS == 0:\n",
    "    np.savetxt(filenames['W_speeds'], W);                print('W_speeds written')\n",
    "    np.savetxt(filenames['HT_speeds'], H.T);             print('HT_speeds written')\n",
    "    np.savetxt(filenames['HT_speeds_axed'], axe_H(H.T)); print('HT_speeds_axed written')"
   ]
  }
 ],
 "metadata": {
  "kernelspec": {
   "display_name": "Python 3",
   "language": "python",
   "name": "python3"
  },
  "language_info": {
   "codemirror_mode": {
    "name": "ipython",
    "version": 3
   },
   "file_extension": ".py",
   "mimetype": "text/x-python",
   "name": "python",
   "nbconvert_exporter": "python",
   "pygments_lexer": "ipython3",
   "version": "3.6.1"
  }
 },
 "nbformat": 4,
 "nbformat_minor": 2
}
